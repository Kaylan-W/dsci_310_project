{
 "cells": [
  {
   "cell_type": "markdown",
   "id": "5ada5583-325c-46b5-94aa-3f52b3f05b5c",
   "metadata": {},
   "source": [
    "# DSCI 310: PROJECT MILESTONE 1"
   ]
  },
  {
   "cell_type": "markdown",
   "id": "787c2566-6783-4898-9b67-d37866fff13f",
   "metadata": {},
   "source": [
    "## Title\n",
    "\n",
    "## Summary\n",
    "\n",
    "## Introduction:\n",
    "1. provide some relevant background information on the topic so that someone unfamiliar with it will be prepared to understand the rest of your report\n",
    "2. clearly state the question you tried to answer with your project\n",
    "3. identify and describe the dataset that was used to answer the question\n",
    "\n",
    "## Methods & Results:\n",
    "1. describe in written english the methods you used to perform your analysis from beginning to end that narrates the code the does the analysis.\n",
    "2. your report should include code which:\n",
    "3. loads data from the original source on the web\n",
    "4. wrangles and cleans the data from it’s original (downloaded) format to the format necessary for the planned classification or clustering analysis\n",
    "5. performs a summary of the data set that is relevant for exploratory data analysis related to the planned classification analysis\n",
    "6. creates a visualization of the dataset that is relevant for exploratory data analysis related to the planned classification analysis\n",
    "7. performs classification or regression analysis\n",
    "8. creates a visualization of the result of the analysis\n",
    "9. note: all tables and figure should have a figure/table number and a legend\n",
    "\n",
    "## Discussion:\n",
    "1. summarize what you found\n",
    "2. discuss whether this is what you expected to find?\n",
    "3. discuss what impact could such findings have?\n",
    "4. discuss what future questions could this lead to?\n",
    "\n",
    "## References:\n",
    "1. at least 4 citations relevant to the project (format is your choose, just be consistent across the references)."
   ]
  },
  {
   "cell_type": "markdown",
   "id": "64ae9bd1-6bbc-4aaa-a785-60468d9f1ce4",
   "metadata": {},
   "source": [
    "### Potential Datasets:\n",
    "\n",
    "1. City of Vancouver Open Data Portal -  https://opendata.vancouver.ca/pages/home/\n",
    "2. BC Data Catalogue - https://catalogue.data.gov.bc.ca/ \n",
    "3. Government of Canada open data - https://open.canada.ca/en/using-open-data\n",
    "4. GitHub repo of awesome public datasets - https://github.com/awesomedata/awesome-public-datasets\n",
    "5. UCI Machine Learning Repository: Data Sets - https://archive-beta.ics.uci.edu/ml/datasets\n",
    "6. tidytuesday data set - https://github.com/rfordatascience/tidytuesday\n",
    "7. Google Data set search engine - https://toolbox.google.com/datasetsearch\n",
    "8. fivethirtyeight R package - https://cran.r-project.org/web/packages/fivethirtyeight/vignettes/fivethirtyeight.html\n",
    "9. Data Is Plural - https://www.data-is-plural.com/archive/2024-02-14-edition/\n",
    "10. Statistics Canada - https://www.statcan.gc.ca/en/start\n"
   ]
  },
  {
   "cell_type": "code",
   "execution_count": null,
   "id": "2122e1c6-e944-4651-90ee-7ad0b9d6a2e4",
   "metadata": {},
   "outputs": [],
   "source": []
  }
 ],
 "metadata": {
  "kernelspec": {
   "display_name": "R",
   "language": "R",
   "name": "ir"
  },
  "language_info": {
   "codemirror_mode": "r",
   "file_extension": ".r",
   "mimetype": "text/x-r-source",
   "name": "R",
   "pygments_lexer": "r",
   "version": "4.3.2"
  }
 },
 "nbformat": 4,
 "nbformat_minor": 5
}
