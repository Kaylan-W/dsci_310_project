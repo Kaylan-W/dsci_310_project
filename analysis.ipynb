{
 "cells": [
  {
   "cell_type": "markdown",
   "id": "5ada5583-325c-46b5-94aa-3f52b3f05b5c",
   "metadata": {},
   "source": [
    "# DSCI 310: PROJECT MILESTONE 1"
   ]
  },
  {
   "cell_type": "markdown",
   "id": "64ae9bd1-6bbc-4aaa-a785-60468d9f1ce4",
   "metadata": {},
   "source": [
    "## Note:\n",
    "The content of this analysis project should be a narrated analysis that asks and answers a predictive question using a classification or regression method taught in the prerequisite course, DSCI 100. For milestone 1, the code and analysis narrative should be contained within a single Jupyter notebook (e.g., .ipynb file), RMarkdown file (e.g., .Rmd file), or Quarto document (e.g., .qmd file). The analysis narrative should be rich, and at the level of the final project from DSCI 100. Either R or Python can be used to do this. The data for the project should be publicly available, and clearly licensed to be shared and used openly on the internet. We strongly suggest you avoid using data sets where authentication is needed for access (e.g., Kaggle) as this adds another layer of complexity when making these projects reproducible.\n",
    "\n",
    "Note - You are expected to create an original data analysis for this project. You are not allowed to reuse an analysis from another course.\n",
    "\n",
    "## Potential Datasets:\n",
    "\n",
    "1. City of Vancouver Open Data Portal -  https://opendata.vancouver.ca/pages/home/\n",
    "2. BC Data Catalogue - https://catalogue.data.gov.bc.ca/ \n",
    "3. Government of Canada open data - https://open.canada.ca/en/using-open-data\n",
    "4. GitHub repo of awesome public datasets - https://github.com/awesomedata/awesome-public-datasets\n",
    "5. UCI Machine Learning Repository: Data Sets - https://archive-beta.ics.uci.edu/ml/datasets\n",
    "6. tidytuesday data set - https://github.com/rfordatascience/tidytuesday\n",
    "7. Google Data set search engine - https://toolbox.google.com/datasetsearch\n",
    "8. fivethirtyeight R package - https://cran.r-project.org/web/packages/fivethirtyeight/vignettes/fivethirtyeight.html\n",
    "9. Data Is Plural - https://www.data-is-plural.com/archive/2024-02-14-edition/\n",
    "10. Statistics Canada - https://www.statcan.gc.ca/en/start\n"
   ]
  },
  {
   "cell_type": "markdown",
   "id": "787c2566-6783-4898-9b67-d37866fff13f",
   "metadata": {},
   "source": [
    "## Title\n",
    "\n",
    "## Summary\n",
    "\n",
    "## Introduction:\n",
    "1. provide some relevant background information on the topic so that someone unfamiliar with it will be prepared to understand the rest of your report\n",
    "2. clearly state the question you tried to answer with your project\n",
    "3. identify and describe the dataset that was used to answer the question\n",
    "\n",
    "## Methods & Results:\n",
    "1. describe in written english the methods you used to perform your analysis from beginning to end that narrates the code the does the analysis.\n",
    "2. your report should include code which:\n",
    "3. loads data from the original source on the web\n",
    "4. wrangles and cleans the data from it’s original (downloaded) format to the format necessary for the planned classification or clustering analysis\n",
    "5. performs a summary of the data set that is relevant for exploratory data analysis related to the planned classification analysis\n",
    "6. creates a visualization of the dataset that is relevant for exploratory data analysis related to the planned classification analysis\n",
    "7. performs classification or regression analysis\n",
    "8. creates a visualization of the result of the analysis\n",
    "9. note: all tables and figure should have a figure/table number and a legend\n",
    "\n",
    "## Discussion:\n",
    "1. summarize what you found\n",
    "2. discuss whether this is what you expected to find?\n",
    "3. discuss what impact could such findings have?\n",
    "4. discuss what future questions could this lead to?\n",
    "\n",
    "## References:\n",
    "1. at least 4 citations relevant to the project (format is your choose, just be consistent across the references)."
   ]
  },
  {
   "cell_type": "code",
   "execution_count": 1,
   "id": "a994f4dd-9e70-49b7-a5dd-26b3724670ba",
   "metadata": {
    "collapsed": true,
    "jupyter": {
     "outputs_hidden": true
    }
   },
   "outputs": [
    {
     "name": "stderr",
     "output_type": "stream",
     "text": [
      "── \u001b[1mAttaching core tidyverse packages\u001b[22m ──────────────────────── tidyverse 2.0.0 ──\n",
      "\u001b[32m✔\u001b[39m \u001b[34mdplyr    \u001b[39m 1.1.4     \u001b[32m✔\u001b[39m \u001b[34mreadr    \u001b[39m 2.1.5\n",
      "\u001b[32m✔\u001b[39m \u001b[34mforcats  \u001b[39m 1.0.0     \u001b[32m✔\u001b[39m \u001b[34mstringr  \u001b[39m 1.5.1\n",
      "\u001b[32m✔\u001b[39m \u001b[34mggplot2  \u001b[39m 3.4.4     \u001b[32m✔\u001b[39m \u001b[34mtibble   \u001b[39m 3.2.1\n",
      "\u001b[32m✔\u001b[39m \u001b[34mlubridate\u001b[39m 1.9.3     \u001b[32m✔\u001b[39m \u001b[34mtidyr    \u001b[39m 1.3.1\n",
      "\u001b[32m✔\u001b[39m \u001b[34mpurrr    \u001b[39m 1.0.2     \n",
      "── \u001b[1mConflicts\u001b[22m ────────────────────────────────────────── tidyverse_conflicts() ──\n",
      "\u001b[31m✖\u001b[39m \u001b[34mdplyr\u001b[39m::\u001b[32mfilter()\u001b[39m masks \u001b[34mstats\u001b[39m::filter()\n",
      "\u001b[31m✖\u001b[39m \u001b[34mdplyr\u001b[39m::\u001b[32mlag()\u001b[39m    masks \u001b[34mstats\u001b[39m::lag()\n",
      "\u001b[36mℹ\u001b[39m Use the conflicted package (\u001b[3m\u001b[34m<http://conflicted.r-lib.org/>\u001b[39m\u001b[23m) to force all conflicts to become errors\n"
     ]
    }
   ],
   "source": [
    "# imports and libraries \n",
    "library(tidyverse)\n",
    "library(ggplot2)\n"
   ]
  },
  {
   "cell_type": "code",
   "execution_count": 2,
   "id": "4da51f7d-2d45-48f7-8aec-6505482804e9",
   "metadata": {
    "collapsed": true,
    "jupyter": {
     "outputs_hidden": true
    }
   },
   "outputs": [
    {
     "name": "stderr",
     "output_type": "stream",
     "text": [
      "\u001b[1mRows: \u001b[22m\u001b[34m13\u001b[39m \u001b[1mColumns: \u001b[22m\u001b[34m10\u001b[39m\n",
      "\u001b[36m──\u001b[39m \u001b[1mColumn specification\u001b[22m \u001b[36m────────────────────────────────────────────────────────\u001b[39m\n",
      "\u001b[1mDelimiter:\u001b[22m \",\"\n",
      "\u001b[32mdbl\u001b[39m (10): Year, PercentCelebrating, PerPerson, Candy, Flowers, Jewelry, Gree...\n",
      "\n",
      "\u001b[36mℹ\u001b[39m Use `spec()` to retrieve the full column specification for this data.\n",
      "\u001b[36mℹ\u001b[39m Specify the column types or set `show_col_types = FALSE` to quiet this message.\n",
      "\u001b[1mRows: \u001b[22m\u001b[34m6\u001b[39m \u001b[1mColumns: \u001b[22m\u001b[34m9\u001b[39m\n",
      "\u001b[36m──\u001b[39m \u001b[1mColumn specification\u001b[22m \u001b[36m────────────────────────────────────────────────────────\u001b[39m\n",
      "\u001b[1mDelimiter:\u001b[22m \",\"\n",
      "\u001b[31mchr\u001b[39m (1): Age\n",
      "\u001b[32mdbl\u001b[39m (8): SpendingCelebrating, Candy, Flowers, Jewelry, GreetingCards, Evenin...\n",
      "\n",
      "\u001b[36mℹ\u001b[39m Use `spec()` to retrieve the full column specification for this data.\n",
      "\u001b[36mℹ\u001b[39m Specify the column types or set `show_col_types = FALSE` to quiet this message.\n",
      "\u001b[1mRows: \u001b[22m\u001b[34m2\u001b[39m \u001b[1mColumns: \u001b[22m\u001b[34m9\u001b[39m\n",
      "\u001b[36m──\u001b[39m \u001b[1mColumn specification\u001b[22m \u001b[36m────────────────────────────────────────────────────────\u001b[39m\n",
      "\u001b[1mDelimiter:\u001b[22m \",\"\n",
      "\u001b[31mchr\u001b[39m (1): Gender\n",
      "\u001b[32mdbl\u001b[39m (8): SpendingCelebrating, Candy, Flowers, Jewelry, GreetingCards, Evenin...\n",
      "\n",
      "\u001b[36mℹ\u001b[39m Use `spec()` to retrieve the full column specification for this data.\n",
      "\u001b[36mℹ\u001b[39m Specify the column types or set `show_col_types = FALSE` to quiet this message.\n"
     ]
    }
   ],
   "source": [
    "# Reading in the data from the web\n",
    "historical_spending <- read_csv('https://raw.githubusercontent.com/rfordatascience/tidytuesday/master/data/2024/2024-02-13/historical_spending.csv')\n",
    "gifts_age <- read_csv('https://raw.githubusercontent.com/rfordatascience/tidytuesday/master/data/2024/2024-02-13/gifts_age.csv')\n",
    "gifts_gender <- read_csv('https://raw.githubusercontent.com/rfordatascience/tidytuesday/master/data/2024/2024-02-13/gifts_gender.csv')\n"
   ]
  },
  {
   "cell_type": "code",
   "execution_count": null,
   "id": "3a9efb89-97d1-4649-be3e-d62bf63c8355",
   "metadata": {},
   "outputs": [],
   "source": []
  }
 ],
 "metadata": {
  "kernelspec": {
   "display_name": "R",
   "language": "R",
   "name": "ir"
  },
  "language_info": {
   "codemirror_mode": "r",
   "file_extension": ".r",
   "mimetype": "text/x-r-source",
   "name": "R",
   "pygments_lexer": "r",
   "version": "4.3.2"
  }
 },
 "nbformat": 4,
 "nbformat_minor": 5
}
